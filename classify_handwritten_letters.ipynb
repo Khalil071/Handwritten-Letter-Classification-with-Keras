{
  "cells": [
    {
      "cell_type": "code",
      "source": [
        "from google.colab import drive\n",
        "drive.mount('/content/drive')"
      ],
      "metadata": {
        "colab": {
          "base_uri": "https://localhost:8080/"
        },
        "id": "giSeAVMV5ljQ",
        "outputId": "ab726064-6b00-4aad-b2a7-4c676800bafc"
      },
      "id": "giSeAVMV5ljQ",
      "execution_count": 1,
      "outputs": [
        {
          "output_type": "stream",
          "name": "stdout",
          "text": [
            "Drive already mounted at /content/drive; to attempt to forcibly remount, call drive.mount(\"/content/drive\", force_remount=True).\n"
          ]
        }
      ]
    },
    {
      "cell_type": "code",
      "execution_count": 2,
      "id": "30dbf42d-76be-44ce-8f64-665e87ce2a1b",
      "metadata": {
        "id": "30dbf42d-76be-44ce-8f64-665e87ce2a1b"
      },
      "outputs": [],
      "source": [
        "import zipfile"
      ]
    },
    {
      "cell_type": "code",
      "execution_count": 3,
      "id": "d6b48572-00c2-4357-9708-14540fb24397",
      "metadata": {
        "id": "d6b48572-00c2-4357-9708-14540fb24397"
      },
      "outputs": [],
      "source": [
        "with zipfile.ZipFile(\"/content/drive/My Drive/5_projects/classify_handwritten_letters/letters.zip\", 'r') as zip_ref:\n",
        "    zip_ref.extractall(\"handwritten_letters\")"
      ]
    },
    {
      "cell_type": "code",
      "execution_count": 4,
      "id": "58dee92e-f39f-4409-ae18-245d4eae16e5",
      "metadata": {
        "id": "58dee92e-f39f-4409-ae18-245d4eae16e5"
      },
      "outputs": [],
      "source": [
        "import os\n",
        "import pandas as pd\n",
        "from PIL import Image\n",
        "import numpy as np"
      ]
    },
    {
      "cell_type": "code",
      "source": [
        "dataset_path = \"handwritten_letters\"  # Folder where images are stored"
      ],
      "metadata": {
        "id": "bWL99FgX-ZNG"
      },
      "id": "bWL99FgX-ZNG",
      "execution_count": 5,
      "outputs": []
    },
    {
      "cell_type": "code",
      "execution_count": 7,
      "id": "62b2c7a9-4f45-4d5b-a6f4-bb49fbd6935d",
      "metadata": {
        "id": "62b2c7a9-4f45-4d5b-a6f4-bb49fbd6935d"
      },
      "outputs": [],
      "source": [
        "import os\n",
        "import cv2\n",
        "import numpy as np\n",
        "import pandas as pd\n",
        "import tensorflow as tf\n",
        "from tensorflow import keras\n",
        "from tensorflow.keras import layers\n",
        "from sklearn.model_selection import train_test_split\n",
        "from tensorflow.keras.utils import to_categorical"
      ]
    },
    {
      "cell_type": "code",
      "execution_count": 8,
      "id": "861008bc-a3f6-44f1-aac4-b727b5db41c7",
      "metadata": {
        "id": "861008bc-a3f6-44f1-aac4-b727b5db41c7"
      },
      "outputs": [],
      "source": [
        "# Define dataset path\n",
        "data_path = \"/content/drive/My Drive/5_projects/classify_handwritten_letters/handwritten_letters/letters/\""
      ]
    },
    {
      "cell_type": "code",
      "source": [
        "# Function to extract label from filename (modify based on actual dataset format)\n",
        "\n",
        "def extract_label(filename):\n",
        "    return filename.split(\"_\")[-1][0] # Example: Extract 'A' from '01_04_00_A.png'"
      ],
      "metadata": {
        "id": "OMlpMApT8buy"
      },
      "id": "OMlpMApT8buy",
      "execution_count": 9,
      "outputs": []
    },
    {
      "cell_type": "code",
      "source": [
        "# Load images and labels\n",
        "image_path = os.listdir(data_path)\n",
        "x, y = [], []\n",
        "\n",
        "for img_name in image_path:\n",
        "    img_path = os.path.join(data_path, img_name)\n",
        "    img = cv2.imread(img_path, cv2.IMREAD_GRAYSCALE)\n",
        "    img = cv2.resize(img, (32, 32))  # Resize to standard size\n",
        "    img = img / 255.0\n",
        "    x.append(img)\n",
        "    y.append(extract_label(img_name))\n"
      ],
      "metadata": {
        "id": "W6FS9mSG9AfQ"
      },
      "id": "W6FS9mSG9AfQ",
      "execution_count": 27,
      "outputs": []
    },
    {
      "cell_type": "code",
      "source": [
        "print(np.array(x).shape)"
      ],
      "metadata": {
        "colab": {
          "base_uri": "https://localhost:8080/"
        },
        "id": "iexIip9cA_rR",
        "outputId": "c513209b-e459-4dc4-8d75-b5be87d5cb90"
      },
      "id": "iexIip9cA_rR",
      "execution_count": 28,
      "outputs": [
        {
          "output_type": "stream",
          "name": "stdout",
          "text": [
            "(10903, 32, 32)\n"
          ]
        }
      ]
    },
    {
      "cell_type": "code",
      "source": [
        "# Convert to numpy arrays\n",
        "x = np.array(x).reshape(-1, 32, 32, 1)\n",
        "unique_labels = sorted(set(y))  # Get unique character labels\n",
        "label_map = {char: idx for idx, char in enumerate(unique_labels)}  # Map labels to numbers\n",
        "y = np.array([label_map[label] for label in y])\n",
        "y = to_categorical(y, num_classes=len(unique_labels))"
      ],
      "metadata": {
        "id": "yZljko9y9AhP"
      },
      "id": "yZljko9y9AhP",
      "execution_count": 29,
      "outputs": []
    },
    {
      "cell_type": "code",
      "source": [
        "# Split into train and test sets\n",
        "x_train, x_test, y_train, y_test = train_test_split(x, y, test_size=0.2, random_state=42)"
      ],
      "metadata": {
        "id": "Xcm9YXbt9AkB"
      },
      "id": "Xcm9YXbt9AkB",
      "execution_count": 30,
      "outputs": []
    },
    {
      "cell_type": "code",
      "source": [
        "# Build CNN Model\n",
        "\n",
        "model = keras.Sequential([\n",
        "    layers.Conv2D(32, (3, 3), activation='relu', input_shape=(32, 32, 1)),\n",
        "    layers.MaxPooling2D((2, 2)),\n",
        "    layers.Conv2D(64, (3, 3), activation='relu'),\n",
        "    layers.MaxPooling2D((2, 2)),\n",
        "    layers.Flatten(),\n",
        "    layers.Dense(128, activation='relu'),\n",
        "    layers.Dense(len(unique_labels), activation='softmax')\n",
        "])"
      ],
      "metadata": {
        "colab": {
          "base_uri": "https://localhost:8080/"
        },
        "id": "KoelKeLG9Ap4",
        "outputId": "a70dd3d7-284b-4088-d1c9-e961c518e399"
      },
      "id": "KoelKeLG9Ap4",
      "execution_count": 31,
      "outputs": [
        {
          "output_type": "stream",
          "name": "stderr",
          "text": [
            "/usr/local/lib/python3.11/dist-packages/keras/src/layers/convolutional/base_conv.py:107: UserWarning: Do not pass an `input_shape`/`input_dim` argument to a layer. When using Sequential models, prefer using an `Input(shape)` object as the first layer in the model instead.\n",
            "  super().__init__(activity_regularizer=activity_regularizer, **kwargs)\n"
          ]
        }
      ]
    },
    {
      "cell_type": "code",
      "source": [
        "model.compile(optimizer='adam', loss='categorical_crossentropy', metrics=['accuracy'])"
      ],
      "metadata": {
        "id": "R6LMa3ZSDqZe"
      },
      "id": "R6LMa3ZSDqZe",
      "execution_count": 32,
      "outputs": []
    },
    {
      "cell_type": "code",
      "source": [
        "# train Model\n",
        "\n",
        "epochs = 10\n",
        "batch_size = 32\n",
        "history = model.fit(x_train, y_train, epochs=epochs, batch_size=batch_size, validation_data=(x_test, y_test))"
      ],
      "metadata": {
        "colab": {
          "base_uri": "https://localhost:8080/"
        },
        "id": "5T0aUAoIDqcl",
        "outputId": "7a917566-1f92-43b3-9d77-dc9229765047"
      },
      "id": "5T0aUAoIDqcl",
      "execution_count": 33,
      "outputs": [
        {
          "output_type": "stream",
          "name": "stdout",
          "text": [
            "Epoch 1/10\n",
            "\u001b[1m273/273\u001b[0m \u001b[32m━━━━━━━━━━━━━━━━━━━━\u001b[0m\u001b[37m\u001b[0m \u001b[1m9s\u001b[0m 18ms/step - accuracy: 0.7376 - loss: 0.9200 - val_accuracy: 0.7575 - val_loss: 0.8131\n",
            "Epoch 2/10\n",
            "\u001b[1m273/273\u001b[0m \u001b[32m━━━━━━━━━━━━━━━━━━━━\u001b[0m\u001b[37m\u001b[0m \u001b[1m1s\u001b[0m 5ms/step - accuracy: 0.7544 - loss: 0.7896 - val_accuracy: 0.7593 - val_loss: 0.6717\n",
            "Epoch 3/10\n",
            "\u001b[1m273/273\u001b[0m \u001b[32m━━━━━━━━━━━━━━━━━━━━\u001b[0m\u001b[37m\u001b[0m \u001b[1m1s\u001b[0m 5ms/step - accuracy: 0.7898 - loss: 0.6074 - val_accuracy: 0.8235 - val_loss: 0.5396\n",
            "Epoch 4/10\n",
            "\u001b[1m273/273\u001b[0m \u001b[32m━━━━━━━━━━━━━━━━━━━━\u001b[0m\u001b[37m\u001b[0m \u001b[1m1s\u001b[0m 5ms/step - accuracy: 0.8201 - loss: 0.5147 - val_accuracy: 0.8276 - val_loss: 0.4930\n",
            "Epoch 5/10\n",
            "\u001b[1m273/273\u001b[0m \u001b[32m━━━━━━━━━━━━━━━━━━━━\u001b[0m\u001b[37m\u001b[0m \u001b[1m2s\u001b[0m 4ms/step - accuracy: 0.8316 - loss: 0.4651 - val_accuracy: 0.8249 - val_loss: 0.4486\n",
            "Epoch 6/10\n",
            "\u001b[1m273/273\u001b[0m \u001b[32m━━━━━━━━━━━━━━━━━━━━\u001b[0m\u001b[37m\u001b[0m \u001b[1m1s\u001b[0m 4ms/step - accuracy: 0.8355 - loss: 0.4201 - val_accuracy: 0.8386 - val_loss: 0.4140\n",
            "Epoch 7/10\n",
            "\u001b[1m273/273\u001b[0m \u001b[32m━━━━━━━━━━━━━━━━━━━━\u001b[0m\u001b[37m\u001b[0m \u001b[1m1s\u001b[0m 4ms/step - accuracy: 0.8461 - loss: 0.4027 - val_accuracy: 0.8409 - val_loss: 0.3969\n",
            "Epoch 8/10\n",
            "\u001b[1m273/273\u001b[0m \u001b[32m━━━━━━━━━━━━━━━━━━━━\u001b[0m\u001b[37m\u001b[0m \u001b[1m1s\u001b[0m 4ms/step - accuracy: 0.8461 - loss: 0.4016 - val_accuracy: 0.8432 - val_loss: 0.3846\n",
            "Epoch 9/10\n",
            "\u001b[1m273/273\u001b[0m \u001b[32m━━━━━━━━━━━━━━━━━━━━\u001b[0m\u001b[37m\u001b[0m \u001b[1m1s\u001b[0m 5ms/step - accuracy: 0.8495 - loss: 0.3708 - val_accuracy: 0.8395 - val_loss: 0.3962\n",
            "Epoch 10/10\n",
            "\u001b[1m273/273\u001b[0m \u001b[32m━━━━━━━━━━━━━━━━━━━━\u001b[0m\u001b[37m\u001b[0m \u001b[1m1s\u001b[0m 4ms/step - accuracy: 0.8454 - loss: 0.3697 - val_accuracy: 0.8441 - val_loss: 0.3801\n"
          ]
        }
      ]
    },
    {
      "cell_type": "code",
      "source": [
        "# Evaluate model\n",
        "test_loss, test_acc = model.evaluate(x_test, y_test)\n",
        "print(f\"Test accuracy: {test_acc}\")\n",
        "print(f\"Test Loss: {test_loss}\")"
      ],
      "metadata": {
        "colab": {
          "base_uri": "https://localhost:8080/"
        },
        "id": "uMooYs9aDqht",
        "outputId": "8c892286-39ed-4da6-d3fd-bbe99f5a03f5"
      },
      "id": "uMooYs9aDqht",
      "execution_count": 36,
      "outputs": [
        {
          "output_type": "stream",
          "name": "stdout",
          "text": [
            "\u001b[1m69/69\u001b[0m \u001b[32m━━━━━━━━━━━━━━━━━━━━\u001b[0m\u001b[37m\u001b[0m \u001b[1m0s\u001b[0m 4ms/step - accuracy: 0.8452 - loss: 0.3630\n",
            "Test accuracy: 0.8441082239151001\n",
            "Test Loss: 0.38012611865997314\n"
          ]
        }
      ]
    },
    {
      "cell_type": "code",
      "source": [
        "# Save model\n",
        "model.save(\"handwritten_letters_model.h5\")"
      ],
      "metadata": {
        "colab": {
          "base_uri": "https://localhost:8080/"
        },
        "id": "EINIDLO-FIAo",
        "outputId": "9d7c8210-e7f0-4809-d014-5832fb1f60a3"
      },
      "id": "EINIDLO-FIAo",
      "execution_count": 35,
      "outputs": [
        {
          "output_type": "stream",
          "name": "stderr",
          "text": [
            "WARNING:absl:You are saving your model as an HDF5 file via `model.save()` or `keras.saving.save_model(model)`. This file format is considered legacy. We recommend using instead the native Keras format, e.g. `model.save('my_model.keras')` or `keras.saving.save_model(model, 'my_model.keras')`. \n"
          ]
        }
      ]
    },
    {
      "cell_type": "code",
      "source": [
        "# Make Predictions\n",
        "predictions = model.predict(x_test[:25])  # Predict on the first 5 images\n",
        "print(predictions)"
      ],
      "metadata": {
        "colab": {
          "base_uri": "https://localhost:8080/"
        },
        "id": "bZK2kBGtFKSN",
        "outputId": "6069f97a-e66a-4f68-a42e-f96969abc33a"
      },
      "id": "bZK2kBGtFKSN",
      "execution_count": 57,
      "outputs": [
        {
          "output_type": "stream",
          "name": "stdout",
          "text": [
            "\u001b[1m1/1\u001b[0m \u001b[32m━━━━━━━━━━━━━━━━━━━━\u001b[0m\u001b[37m\u001b[0m \u001b[1m0s\u001b[0m 451ms/step\n",
            "[[9.95090961e-01 2.76589254e-03 2.08877004e-03 2.11420174e-05\n",
            "  3.33690587e-05]\n",
            " [9.99849439e-01 1.25919614e-04 2.25183649e-05 2.88045015e-07\n",
            "  1.96463634e-06]\n",
            " [9.99975681e-01 2.70337364e-06 2.15766304e-05 1.63714187e-09\n",
            "  2.60971298e-08]\n",
            " [2.16453318e-02 2.70030946e-02 4.22147125e-01 3.91690105e-01\n",
            "  1.37514353e-01]\n",
            " [9.99603212e-01 3.96490970e-04 3.01180648e-07 4.16640855e-09\n",
            "  6.15815177e-09]\n",
            " [9.00615193e-03 1.26257744e-02 3.02644253e-01 5.91942191e-01\n",
            "  8.37817192e-02]\n",
            " [9.53240156e-01 4.67120893e-02 3.90567366e-05 2.18124751e-06\n",
            "  6.42739406e-06]\n",
            " [9.99953985e-01 4.59590956e-05 6.71262912e-09 1.46181407e-12\n",
            "  3.04272267e-11]\n",
            " [9.99267399e-01 7.32092652e-04 4.60075370e-07 2.56730459e-09\n",
            "  8.27748625e-09]\n",
            " [9.95341778e-01 4.39306721e-03 2.55860854e-04 2.18475680e-06\n",
            "  7.18843876e-06]\n",
            " [9.92728710e-01 6.80314284e-03 4.52606240e-04 2.60065235e-06\n",
            "  1.29113623e-05]\n",
            " [4.11609840e-03 2.23060418e-03 3.34042102e-01 5.78087747e-01\n",
            "  8.15234780e-02]\n",
            " [9.67989564e-01 3.09005883e-02 1.07093842e-03 1.70261046e-05\n",
            "  2.18263285e-05]\n",
            " [9.99401927e-01 5.90378826e-04 7.68441078e-06 2.49443666e-08\n",
            "  3.74327911e-08]\n",
            " [9.66036975e-01 3.09337862e-02 2.90228170e-03 5.79100233e-05\n",
            "  6.90724701e-05]\n",
            " [9.62089360e-01 2.92641670e-02 8.39021895e-03 8.82525201e-05\n",
            "  1.67985563e-04]\n",
            " [9.43746328e-01 5.30347228e-02 3.02299461e-03 9.66994776e-05\n",
            "  9.92334899e-05]\n",
            " [9.65172112e-01 1.68028511e-02 1.78458672e-02 6.41161314e-05\n",
            "  1.15093266e-04]\n",
            " [7.99448669e-01 1.98120490e-01 1.98851293e-03 2.03139571e-04\n",
            "  2.39183501e-04]\n",
            " [7.48002436e-03 9.09559149e-03 2.17702925e-01 6.94613338e-01\n",
            "  7.11080506e-02]\n",
            " [9.52128172e-01 3.38319056e-02 1.32697029e-02 4.23835852e-04\n",
            "  3.46419256e-04]\n",
            " [9.94545341e-01 4.90321033e-03 5.34344988e-04 6.39310065e-06\n",
            "  1.07290380e-05]\n",
            " [9.99894500e-01 1.02577957e-04 2.68546069e-06 5.49013315e-08\n",
            "  1.67811990e-07]\n",
            " [9.99568760e-01 2.23451731e-04 2.00891955e-04 2.82055703e-06\n",
            "  4.09171298e-06]\n",
            " [9.99823272e-01 1.76645044e-04 8.21954131e-08 8.92452848e-11\n",
            "  4.61264860e-10]]\n"
          ]
        }
      ]
    },
    {
      "cell_type": "code",
      "source": [
        "predicted_classes = np.argmax(predictions, axis=1)\n",
        "print(predicted_classes)  # Predicted classes"
      ],
      "metadata": {
        "colab": {
          "base_uri": "https://localhost:8080/"
        },
        "id": "7Mf3XpTcFvNM",
        "outputId": "7e5a42c4-b5a3-4cbf-eb8b-c83d86c7fd6f"
      },
      "id": "7Mf3XpTcFvNM",
      "execution_count": 58,
      "outputs": [
        {
          "output_type": "stream",
          "name": "stdout",
          "text": [
            "[0 0 0 2 0 3 0 0 0 0 0 3 0 0 0 0 0 0 0 3 0 0 0 0 0]\n"
          ]
        }
      ]
    },
    {
      "cell_type": "code",
      "source": [
        "y_test_classes = np.argmax(y_test[:25], axis=1)  # Convert one-hot encoded labels to class indices"
      ],
      "metadata": {
        "id": "eJarcQywI2CN"
      },
      "id": "eJarcQywI2CN",
      "execution_count": 59,
      "outputs": []
    },
    {
      "cell_type": "code",
      "source": [
        "from sklearn.metrics import confusion_matrix\n",
        "import seaborn as sns\n",
        "import matplotlib.pyplot as plt\n",
        "\n",
        "# Compute the confusion matrix\n",
        "cm = confusion_matrix(y_test_classes, predicted_classes)\n",
        "\n",
        "# Visualize the confusion matrix\n",
        "sns.heatmap(cm, annot=True, fmt=\"d\", cmap=\"Blues\", xticklabels=range(25), yticklabels=range(25))\n",
        "plt.xlabel('Predicted')\n",
        "plt.ylabel('True')\n",
        "plt.title('Confusion Matrix for Handwritten Letter Classification')\n",
        "plt.show()"
      ],
      "metadata": {
        "colab": {
          "base_uri": "https://localhost:8080/",
          "height": 475
        },
        "id": "C34yFyIDJgFk",
        "outputId": "bea0ecd2-1a89-456b-d37d-a98f53c0307a"
      },
      "id": "C34yFyIDJgFk",
      "execution_count": 60,
      "outputs": [
        {
          "output_type": "display_data",
          "data": {
            "text/plain": [
              "<Figure size 640x480 with 2 Axes>"
            ],
            "image/png": "[encoded data removed]"
          },
          "metadata": {}
        }
      ]
    },
    {
      "cell_type": "code",
      "source": [],
      "metadata": {
        "id": "DdRAzMSJJiJQ"
      },
      "id": "DdRAzMSJJiJQ",
      "execution_count": null,
      "outputs": []
    }
  ],
  "metadata": {
    "kernelspec": {
      "display_name": "Python 3",
      "name": "python3"
    },
    "language_info": {
      "codemirror_mode": {
        "name": "ipython",
        "version": 3
      },
      "file_extension": ".py",
      "mimetype": "text/x-python",
      "name": "python",
      "nbconvert_exporter": "python",
      "pygments_lexer": "ipython3",
      "version": "3.12.7"
    },
    "colab": {
      "provenance": [],
      "gpuType": "T4"
    },
    "accelerator": "GPU"
  },
  "nbformat": 4,
  "nbformat_minor": 5
}